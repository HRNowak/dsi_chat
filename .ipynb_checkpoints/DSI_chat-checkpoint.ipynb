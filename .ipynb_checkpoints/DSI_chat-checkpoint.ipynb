{
 "cells": [
  {
   "cell_type": "markdown",
   "metadata": {},
   "source": [
    "<h1><center>DSI11 Whatsapp Group EDA</center></h1>\n",
    "\n",
    "# Importing Data"
   ]
  },
  {
   "cell_type": "code",
   "execution_count": 24,
   "metadata": {},
   "outputs": [],
   "source": [
    "import pandas as pd\n",
    "import re\n",
    "import matplotlib.pyplot as plt\n",
    "import numpy as np"
   ]
  },
  {
   "cell_type": "code",
   "execution_count": 2,
   "metadata": {},
   "outputs": [
    {
     "data": {
      "text/plain": [
       "'03/03/2020, 16:02 - Messages to this group are now secured with end-to-end encryption. Tap for more info.\\n03/03/2020, 15:27 - Tanya DSI created group \"GA’s DSI-11 group\"\\n03/03/2020, 16:02 - You joined'"
      ]
     },
     "execution_count": 2,
     "metadata": {},
     "output_type": "execute_result"
    }
   ],
   "source": [
    "#getting text\n",
    "with open('data/WhatsApp Chat with DSI - no media.txt') as f:\n",
    "    txt = f.read()\n",
    "    \n",
    "#Quick checkl\n",
    "txt[:200]"
   ]
  },
  {
   "cell_type": "code",
   "execution_count": 3,
   "metadata": {},
   "outputs": [
    {
     "data": {
      "text/plain": [
       "['',\n",
       " '03/03/2020, 16:02',\n",
       " ' - Messages to this group are now secured with end-to-end encryption. Tap for more info. ']"
      ]
     },
     "execution_count": 3,
     "metadata": {},
     "output_type": "execute_result"
    }
   ],
   "source": [
    "#separating lines using date/time instead of \\n\n",
    "\n",
    "#step 1 - getting rid of \\n\n",
    "txt = txt.replace('\\n',' ')\n",
    "#step 2 - split using expressions\n",
    "data = re.split(r'(\\d{2}/\\d{2}\\/\\d{4}\\,\\s\\d{2}\\:\\d{2})',txt)\n",
    "\n",
    "data[:3]"
   ]
  },
  {
   "cell_type": "code",
   "execution_count": 4,
   "metadata": {},
   "outputs": [],
   "source": [
    "# separating data for data frame (I know, there must be other ways)\n",
    "date_l = []\n",
    "user_l = []\n",
    "text_l = []\n",
    "for line in data[1:]:\n",
    "    date = re.search(r'\\d{2}/\\d{2}\\/\\d{4}\\,\\s\\d{2}\\:\\d{2}',line)\n",
    "    name = re.search(r'\\s\\-[\\w\\s]*\\:',line)\n",
    "    if date:\n",
    "        date_l.append(line)\n",
    "    else:\n",
    "        if name:\n",
    "            user_l.append(name.group(0)[3:-4])\n",
    "            text_l.append(line.replace(name.group(0),''))\n",
    "        else:\n",
    "            user_l.append('Change in Group')\n",
    "            text_l.append(line[3:])\n",
    "\n",
    "#creating data frame\n",
    "df = pd.DataFrame({'date':date_l,'user':user_l,'text':text_l})"
   ]
  },
  {
   "cell_type": "markdown",
   "metadata": {},
   "source": [
    "# Quick EDA"
   ]
  },
  {
   "cell_type": "code",
   "execution_count": 5,
   "metadata": {},
   "outputs": [
    {
     "data": {
      "text/plain": [
       "(635, 3)"
      ]
     },
     "execution_count": 5,
     "metadata": {},
     "output_type": "execute_result"
    }
   ],
   "source": [
    "df.shape"
   ]
  },
  {
   "cell_type": "code",
   "execution_count": 6,
   "metadata": {},
   "outputs": [
    {
     "data": {
      "text/html": [
       "<div>\n",
       "<style scoped>\n",
       "    .dataframe tbody tr th:only-of-type {\n",
       "        vertical-align: middle;\n",
       "    }\n",
       "\n",
       "    .dataframe tbody tr th {\n",
       "        vertical-align: top;\n",
       "    }\n",
       "\n",
       "    .dataframe thead th {\n",
       "        text-align: right;\n",
       "    }\n",
       "</style>\n",
       "<table border=\"1\" class=\"dataframe\">\n",
       "  <thead>\n",
       "    <tr style=\"text-align: right;\">\n",
       "      <th></th>\n",
       "      <th>date</th>\n",
       "      <th>user</th>\n",
       "      <th>text</th>\n",
       "    </tr>\n",
       "  </thead>\n",
       "  <tbody>\n",
       "    <tr>\n",
       "      <th>0</th>\n",
       "      <td>03/03/2020, 16:02</td>\n",
       "      <td>Change in Group</td>\n",
       "      <td>Messages to this group are now secured with en...</td>\n",
       "    </tr>\n",
       "    <tr>\n",
       "      <th>1</th>\n",
       "      <td>03/03/2020, 15:27</td>\n",
       "      <td>Change in Group</td>\n",
       "      <td>Tanya DSI created group \"GA’s DSI-11 group\"</td>\n",
       "    </tr>\n",
       "    <tr>\n",
       "      <th>2</th>\n",
       "      <td>03/03/2020, 16:02</td>\n",
       "      <td>Change in Group</td>\n",
       "      <td>You joined using this group's invite link</td>\n",
       "    </tr>\n",
       "    <tr>\n",
       "      <th>3</th>\n",
       "      <td>03/03/2020, 16:14</td>\n",
       "      <td>Change in Group</td>\n",
       "      <td>You're now an admin</td>\n",
       "    </tr>\n",
       "    <tr>\n",
       "      <th>4</th>\n",
       "      <td>03/03/2020, 17:07</td>\n",
       "      <td>Change in Group</td>\n",
       "      <td>Ben DSI joined using this group's invite link</td>\n",
       "    </tr>\n",
       "  </tbody>\n",
       "</table>\n",
       "</div>"
      ],
      "text/plain": [
       "                date             user  \\\n",
       "0  03/03/2020, 16:02  Change in Group   \n",
       "1  03/03/2020, 15:27  Change in Group   \n",
       "2  03/03/2020, 16:02  Change in Group   \n",
       "3  03/03/2020, 16:14  Change in Group   \n",
       "4  03/03/2020, 17:07  Change in Group   \n",
       "\n",
       "                                                text  \n",
       "0  Messages to this group are now secured with en...  \n",
       "1       Tanya DSI created group \"GA’s DSI-11 group\"   \n",
       "2         You joined using this group's invite link   \n",
       "3                               You're now an admin   \n",
       "4     Ben DSI joined using this group's invite link   "
      ]
     },
     "execution_count": 6,
     "metadata": {},
     "output_type": "execute_result"
    }
   ],
   "source": [
    "# as expected, most of the first messages are status updates (who joined, who changed named, etc)\n",
    "df.head()\n"
   ]
  },
  {
   "cell_type": "code",
   "execution_count": 7,
   "metadata": {},
   "outputs": [
    {
     "data": {
      "text/html": [
       "<div>\n",
       "<style scoped>\n",
       "    .dataframe tbody tr th:only-of-type {\n",
       "        vertical-align: middle;\n",
       "    }\n",
       "\n",
       "    .dataframe tbody tr th {\n",
       "        vertical-align: top;\n",
       "    }\n",
       "\n",
       "    .dataframe thead th {\n",
       "        text-align: right;\n",
       "    }\n",
       "</style>\n",
       "<table border=\"1\" class=\"dataframe\">\n",
       "  <thead>\n",
       "    <tr style=\"text-align: right;\">\n",
       "      <th></th>\n",
       "      <th>date</th>\n",
       "      <th>user</th>\n",
       "      <th>text</th>\n",
       "    </tr>\n",
       "  </thead>\n",
       "  <tbody>\n",
       "    <tr>\n",
       "      <th>630</th>\n",
       "      <td>01/04/2020, 15:29</td>\n",
       "      <td>Luke</td>\n",
       "      <td>Delightful</td>\n",
       "    </tr>\n",
       "    <tr>\n",
       "      <th>631</th>\n",
       "      <td>01/04/2020, 15:31</td>\n",
       "      <td>Suman</td>\n",
       "      <td>👌😂</td>\n",
       "    </tr>\n",
       "    <tr>\n",
       "      <th>632</th>\n",
       "      <td>01/04/2020, 15:35</td>\n",
       "      <td>Ella</td>\n",
       "      <td>😂</td>\n",
       "    </tr>\n",
       "    <tr>\n",
       "      <th>633</th>\n",
       "      <td>01/04/2020, 16:18</td>\n",
       "      <td>Nanito R  No</td>\n",
       "      <td>Never change, please!</td>\n",
       "    </tr>\n",
       "    <tr>\n",
       "      <th>634</th>\n",
       "      <td>01/04/2020, 17:10</td>\n",
       "      <td>Nan</td>\n",
       "      <td>Hahaha perfect... Next question is, can we ge...</td>\n",
       "    </tr>\n",
       "  </tbody>\n",
       "</table>\n",
       "</div>"
      ],
      "text/plain": [
       "                  date          user  \\\n",
       "630  01/04/2020, 15:29         Luke    \n",
       "631  01/04/2020, 15:31        Suman    \n",
       "632  01/04/2020, 15:35         Ella    \n",
       "633  01/04/2020, 16:18  Nanito R  No   \n",
       "634  01/04/2020, 17:10          Nan    \n",
       "\n",
       "                                                  text  \n",
       "630                                        Delightful   \n",
       "631                                                👌😂   \n",
       "632                                                 😂   \n",
       "633                             Never change, please!   \n",
       "634   Hahaha perfect... Next question is, can we ge...  "
      ]
     },
     "execution_count": 7,
     "metadata": {},
     "output_type": "execute_result"
    }
   ],
   "source": [
    "# and this is how messages look. I love the fact that pandas kept the emojis\n",
    "df.tail()"
   ]
  },
  {
   "cell_type": "code",
   "execution_count": 8,
   "metadata": {},
   "outputs": [
    {
     "data": {
      "text/plain": [
       "date    0\n",
       "user    0\n",
       "text    0\n",
       "dtype: int64"
      ]
     },
     "execution_count": 8,
     "metadata": {},
     "output_type": "execute_result"
    }
   ],
   "source": [
    "#no nulls!\n",
    "df.isnull().sum()"
   ]
  },
  {
   "cell_type": "code",
   "execution_count": 9,
   "metadata": {},
   "outputs": [
    {
     "data": {
      "text/html": [
       "<div>\n",
       "<style scoped>\n",
       "    .dataframe tbody tr th:only-of-type {\n",
       "        vertical-align: middle;\n",
       "    }\n",
       "\n",
       "    .dataframe tbody tr th {\n",
       "        vertical-align: top;\n",
       "    }\n",
       "\n",
       "    .dataframe thead th {\n",
       "        text-align: right;\n",
       "    }\n",
       "</style>\n",
       "<table border=\"1\" class=\"dataframe\">\n",
       "  <thead>\n",
       "    <tr style=\"text-align: right;\">\n",
       "      <th></th>\n",
       "      <th>date</th>\n",
       "      <th>user</th>\n",
       "      <th>text</th>\n",
       "    </tr>\n",
       "  </thead>\n",
       "  <tbody>\n",
       "    <tr>\n",
       "      <th>count</th>\n",
       "      <td>635</td>\n",
       "      <td>635</td>\n",
       "      <td>635</td>\n",
       "    </tr>\n",
       "    <tr>\n",
       "      <th>unique</th>\n",
       "      <td>443</td>\n",
       "      <td>24</td>\n",
       "      <td>522</td>\n",
       "    </tr>\n",
       "    <tr>\n",
       "      <th>top</th>\n",
       "      <td>18/03/2020, 17:04</td>\n",
       "      <td>Nan</td>\n",
       "      <td>&lt;Media omitted&gt;</td>\n",
       "    </tr>\n",
       "    <tr>\n",
       "      <th>freq</th>\n",
       "      <td>9</td>\n",
       "      <td>95</td>\n",
       "      <td>75</td>\n",
       "    </tr>\n",
       "  </tbody>\n",
       "</table>\n",
       "</div>"
      ],
      "text/plain": [
       "                     date  user               text\n",
       "count                 635   635                635\n",
       "unique                443    24                522\n",
       "top     18/03/2020, 17:04  Nan    <Media omitted> \n",
       "freq                    9    95                 75"
      ]
     },
     "execution_count": 9,
     "metadata": {},
     "output_type": "execute_result"
    }
   ],
   "source": [
    "\n",
    "df.describe(include = 'all')"
   ]
  },
  {
   "cell_type": "code",
   "execution_count": 10,
   "metadata": {},
   "outputs": [
    {
     "data": {
      "text/plain": [
       "Nan                95\n",
       "Max                83\n",
       "Paul               51\n",
       "James              48\n",
       "Anna               38\n",
       "Ella               37\n",
       "Charlie            35\n",
       "Maria              29\n",
       "Ki                 24\n",
       "Niall              23\n",
       "Ian                19\n",
       "Tanya              19\n",
       "Hernan             16\n",
       "Callum             16\n",
       "Change in Group    15\n",
       "Suman              15\n",
       "Aaron              14\n",
       "Ben                14\n",
       "Luke               14\n",
       "Isabella           13\n",
       "Noah                7\n",
       "Jonathan            7\n",
       "Alastair            2\n",
       "Axel                1\n",
       "Name: user, dtype: int64"
      ]
     },
     "execution_count": 10,
     "metadata": {},
     "output_type": "execute_result"
    }
   ],
   "source": [
    "#fixing my name\n",
    "df.user.replace({'Nanito R  No':'Hernan'},inplace=True)\n",
    "#Well done Nan and Max! You put most of us to shame.\n",
    "df.user.value_counts()"
   ]
  },
  {
   "cell_type": "markdown",
   "metadata": {},
   "source": [
    "# Extracting some features"
   ]
  },
  {
   "cell_type": "code",
   "execution_count": 15,
   "metadata": {},
   "outputs": [],
   "source": [
    "# flagging media files (media files not included, sorry!)\n",
    "df['media'] = df.text.apply(lambda x: True if '<Media omitted>' in x else False)\n",
    "# when someone shared a link\n",
    "df['link'] = df.text.apply(lambda x: True if 'http' in x else False)\n",
    "# len in characters\n",
    "df['len'] = df.text.apply(lambda x: len(x))"
   ]
  },
  {
   "cell_type": "code",
   "execution_count": 16,
   "metadata": {},
   "outputs": [],
   "source": [
    "#!pip install emoji\n",
    "import \n",
    "def extract_emojis(str):\n",
    "  return ''.join(c for c in str if c in emoji.UNICODE_EMOJI)"
   ]
  },
  {
   "cell_type": "code",
   "execution_count": 20,
   "metadata": {},
   "outputs": [],
   "source": [
    "import emoji\n",
    "df['emoji_num'] = df.text.apply(lambda x: len(extract_emojis(x)))\n",
    "df['emojis'] = df.text.apply(extract_emojis)"
   ]
  },
  {
   "cell_type": "code",
   "execution_count": 21,
   "metadata": {},
   "outputs": [
    {
     "data": {
      "text/html": [
       "<div>\n",
       "<style scoped>\n",
       "    .dataframe tbody tr th:only-of-type {\n",
       "        vertical-align: middle;\n",
       "    }\n",
       "\n",
       "    .dataframe tbody tr th {\n",
       "        vertical-align: top;\n",
       "    }\n",
       "\n",
       "    .dataframe thead th {\n",
       "        text-align: right;\n",
       "    }\n",
       "</style>\n",
       "<table border=\"1\" class=\"dataframe\">\n",
       "  <thead>\n",
       "    <tr style=\"text-align: right;\">\n",
       "      <th></th>\n",
       "      <th>date</th>\n",
       "      <th>user</th>\n",
       "      <th>text</th>\n",
       "      <th>media</th>\n",
       "      <th>link</th>\n",
       "      <th>len</th>\n",
       "      <th>emoji_num</th>\n",
       "      <th>emojis</th>\n",
       "    </tr>\n",
       "  </thead>\n",
       "  <tbody>\n",
       "    <tr>\n",
       "      <th>0</th>\n",
       "      <td>03/03/2020, 16:02</td>\n",
       "      <td>Change in Group</td>\n",
       "      <td>Messages to this group are now secured with en...</td>\n",
       "      <td>False</td>\n",
       "      <td>False</td>\n",
       "      <td>86</td>\n",
       "      <td>0</td>\n",
       "      <td></td>\n",
       "    </tr>\n",
       "    <tr>\n",
       "      <th>1</th>\n",
       "      <td>03/03/2020, 15:27</td>\n",
       "      <td>Change in Group</td>\n",
       "      <td>Tanya DSI created group \"GA’s DSI-11 group\"</td>\n",
       "      <td>False</td>\n",
       "      <td>False</td>\n",
       "      <td>44</td>\n",
       "      <td>0</td>\n",
       "      <td></td>\n",
       "    </tr>\n",
       "    <tr>\n",
       "      <th>2</th>\n",
       "      <td>03/03/2020, 16:02</td>\n",
       "      <td>Change in Group</td>\n",
       "      <td>You joined using this group's invite link</td>\n",
       "      <td>False</td>\n",
       "      <td>False</td>\n",
       "      <td>42</td>\n",
       "      <td>0</td>\n",
       "      <td></td>\n",
       "    </tr>\n",
       "    <tr>\n",
       "      <th>3</th>\n",
       "      <td>03/03/2020, 16:14</td>\n",
       "      <td>Change in Group</td>\n",
       "      <td>You're now an admin</td>\n",
       "      <td>False</td>\n",
       "      <td>False</td>\n",
       "      <td>20</td>\n",
       "      <td>0</td>\n",
       "      <td></td>\n",
       "    </tr>\n",
       "    <tr>\n",
       "      <th>4</th>\n",
       "      <td>03/03/2020, 17:07</td>\n",
       "      <td>Change in Group</td>\n",
       "      <td>Ben DSI joined using this group's invite link</td>\n",
       "      <td>False</td>\n",
       "      <td>False</td>\n",
       "      <td>46</td>\n",
       "      <td>0</td>\n",
       "      <td></td>\n",
       "    </tr>\n",
       "    <tr>\n",
       "      <th>...</th>\n",
       "      <td>...</td>\n",
       "      <td>...</td>\n",
       "      <td>...</td>\n",
       "      <td>...</td>\n",
       "      <td>...</td>\n",
       "      <td>...</td>\n",
       "      <td>...</td>\n",
       "      <td>...</td>\n",
       "    </tr>\n",
       "    <tr>\n",
       "      <th>630</th>\n",
       "      <td>01/04/2020, 15:29</td>\n",
       "      <td>Luke</td>\n",
       "      <td>Delightful</td>\n",
       "      <td>False</td>\n",
       "      <td>False</td>\n",
       "      <td>12</td>\n",
       "      <td>0</td>\n",
       "      <td></td>\n",
       "    </tr>\n",
       "    <tr>\n",
       "      <th>631</th>\n",
       "      <td>01/04/2020, 15:31</td>\n",
       "      <td>Suman</td>\n",
       "      <td>👌😂</td>\n",
       "      <td>False</td>\n",
       "      <td>False</td>\n",
       "      <td>4</td>\n",
       "      <td>2</td>\n",
       "      <td>👌😂</td>\n",
       "    </tr>\n",
       "    <tr>\n",
       "      <th>632</th>\n",
       "      <td>01/04/2020, 15:35</td>\n",
       "      <td>Ella</td>\n",
       "      <td>😂</td>\n",
       "      <td>False</td>\n",
       "      <td>False</td>\n",
       "      <td>3</td>\n",
       "      <td>1</td>\n",
       "      <td>😂</td>\n",
       "    </tr>\n",
       "    <tr>\n",
       "      <th>633</th>\n",
       "      <td>01/04/2020, 16:18</td>\n",
       "      <td>Hernan</td>\n",
       "      <td>Never change, please!</td>\n",
       "      <td>False</td>\n",
       "      <td>False</td>\n",
       "      <td>23</td>\n",
       "      <td>0</td>\n",
       "      <td></td>\n",
       "    </tr>\n",
       "    <tr>\n",
       "      <th>634</th>\n",
       "      <td>01/04/2020, 17:10</td>\n",
       "      <td>Nan</td>\n",
       "      <td>Hahaha perfect... Next question is, can we ge...</td>\n",
       "      <td>False</td>\n",
       "      <td>False</td>\n",
       "      <td>91</td>\n",
       "      <td>1</td>\n",
       "      <td>😂</td>\n",
       "    </tr>\n",
       "  </tbody>\n",
       "</table>\n",
       "<p>635 rows × 8 columns</p>\n",
       "</div>"
      ],
      "text/plain": [
       "                  date             user  \\\n",
       "0    03/03/2020, 16:02  Change in Group   \n",
       "1    03/03/2020, 15:27  Change in Group   \n",
       "2    03/03/2020, 16:02  Change in Group   \n",
       "3    03/03/2020, 16:14  Change in Group   \n",
       "4    03/03/2020, 17:07  Change in Group   \n",
       "..                 ...              ...   \n",
       "630  01/04/2020, 15:29            Luke    \n",
       "631  01/04/2020, 15:31           Suman    \n",
       "632  01/04/2020, 15:35            Ella    \n",
       "633  01/04/2020, 16:18           Hernan   \n",
       "634  01/04/2020, 17:10             Nan    \n",
       "\n",
       "                                                  text  media   link  len  \\\n",
       "0    Messages to this group are now secured with en...  False  False   86   \n",
       "1         Tanya DSI created group \"GA’s DSI-11 group\"   False  False   44   \n",
       "2           You joined using this group's invite link   False  False   42   \n",
       "3                                 You're now an admin   False  False   20   \n",
       "4       Ben DSI joined using this group's invite link   False  False   46   \n",
       "..                                                 ...    ...    ...  ...   \n",
       "630                                        Delightful   False  False   12   \n",
       "631                                                👌😂   False  False    4   \n",
       "632                                                 😂   False  False    3   \n",
       "633                             Never change, please!   False  False   23   \n",
       "634   Hahaha perfect... Next question is, can we ge...  False  False   91   \n",
       "\n",
       "     emoji_num emojis  \n",
       "0            0         \n",
       "1            0         \n",
       "2            0         \n",
       "3            0         \n",
       "4            0         \n",
       "..         ...    ...  \n",
       "630          0         \n",
       "631          2     👌😂  \n",
       "632          1      😂  \n",
       "633          0         \n",
       "634          1      😂  \n",
       "\n",
       "[635 rows x 8 columns]"
      ]
     },
     "execution_count": 21,
     "metadata": {},
     "output_type": "execute_result"
    }
   ],
   "source": [
    "df"
   ]
  },
  {
   "cell_type": "markdown",
   "metadata": {},
   "source": [
    "# Stats per user"
   ]
  },
  {
   "cell_type": "code",
   "execution_count": 47,
   "metadata": {},
   "outputs": [],
   "source": [
    "user_stats = df.groupby('user').agg({'date':len,'len':np.mean,'media':sum,'link':sum,'emoji_num':sum})\n",
    "user_stats.columns = ['total_messages','avg_len','media','link','emoji_num']"
   ]
  },
  {
   "cell_type": "code",
   "execution_count": 54,
   "metadata": {},
   "outputs": [
    {
     "data": {
      "text/html": [
       "<div>\n",
       "<style scoped>\n",
       "    .dataframe tbody tr th:only-of-type {\n",
       "        vertical-align: middle;\n",
       "    }\n",
       "\n",
       "    .dataframe tbody tr th {\n",
       "        vertical-align: top;\n",
       "    }\n",
       "\n",
       "    .dataframe thead th {\n",
       "        text-align: right;\n",
       "    }\n",
       "</style>\n",
       "<table border=\"1\" class=\"dataframe\">\n",
       "  <thead>\n",
       "    <tr style=\"text-align: right;\">\n",
       "      <th></th>\n",
       "      <th>total_messages</th>\n",
       "      <th>avg_len</th>\n",
       "      <th>media</th>\n",
       "      <th>link</th>\n",
       "      <th>emoji_num</th>\n",
       "    </tr>\n",
       "    <tr>\n",
       "      <th>user</th>\n",
       "      <th></th>\n",
       "      <th></th>\n",
       "      <th></th>\n",
       "      <th></th>\n",
       "      <th></th>\n",
       "    </tr>\n",
       "  </thead>\n",
       "  <tbody>\n",
       "    <tr>\n",
       "      <th>Nan</th>\n",
       "      <td>95</td>\n",
       "      <td>71.842105</td>\n",
       "      <td>9.0</td>\n",
       "      <td>4.0</td>\n",
       "      <td>18</td>\n",
       "    </tr>\n",
       "    <tr>\n",
       "      <th>Max</th>\n",
       "      <td>83</td>\n",
       "      <td>47.975904</td>\n",
       "      <td>11.0</td>\n",
       "      <td>1.0</td>\n",
       "      <td>0</td>\n",
       "    </tr>\n",
       "    <tr>\n",
       "      <th>Paul</th>\n",
       "      <td>51</td>\n",
       "      <td>36.588235</td>\n",
       "      <td>6.0</td>\n",
       "      <td>1.0</td>\n",
       "      <td>9</td>\n",
       "    </tr>\n",
       "    <tr>\n",
       "      <th>James</th>\n",
       "      <td>48</td>\n",
       "      <td>28.854167</td>\n",
       "      <td>8.0</td>\n",
       "      <td>1.0</td>\n",
       "      <td>33</td>\n",
       "    </tr>\n",
       "    <tr>\n",
       "      <th>Anna</th>\n",
       "      <td>38</td>\n",
       "      <td>33.605263</td>\n",
       "      <td>3.0</td>\n",
       "      <td>3.0</td>\n",
       "      <td>5</td>\n",
       "    </tr>\n",
       "    <tr>\n",
       "      <th>Ella</th>\n",
       "      <td>37</td>\n",
       "      <td>21.918919</td>\n",
       "      <td>12.0</td>\n",
       "      <td>1.0</td>\n",
       "      <td>17</td>\n",
       "    </tr>\n",
       "    <tr>\n",
       "      <th>Charlie</th>\n",
       "      <td>35</td>\n",
       "      <td>34.142857</td>\n",
       "      <td>5.0</td>\n",
       "      <td>2.0</td>\n",
       "      <td>28</td>\n",
       "    </tr>\n",
       "    <tr>\n",
       "      <th>Maria</th>\n",
       "      <td>29</td>\n",
       "      <td>57.103448</td>\n",
       "      <td>1.0</td>\n",
       "      <td>3.0</td>\n",
       "      <td>16</td>\n",
       "    </tr>\n",
       "    <tr>\n",
       "      <th>Ki</th>\n",
       "      <td>24</td>\n",
       "      <td>33.333333</td>\n",
       "      <td>5.0</td>\n",
       "      <td>0.0</td>\n",
       "      <td>6</td>\n",
       "    </tr>\n",
       "    <tr>\n",
       "      <th>Niall</th>\n",
       "      <td>23</td>\n",
       "      <td>23.260870</td>\n",
       "      <td>3.0</td>\n",
       "      <td>0.0</td>\n",
       "      <td>3</td>\n",
       "    </tr>\n",
       "    <tr>\n",
       "      <th>Tanya</th>\n",
       "      <td>19</td>\n",
       "      <td>84.947368</td>\n",
       "      <td>1.0</td>\n",
       "      <td>2.0</td>\n",
       "      <td>9</td>\n",
       "    </tr>\n",
       "    <tr>\n",
       "      <th>Ian</th>\n",
       "      <td>19</td>\n",
       "      <td>64.473684</td>\n",
       "      <td>1.0</td>\n",
       "      <td>2.0</td>\n",
       "      <td>5</td>\n",
       "    </tr>\n",
       "    <tr>\n",
       "      <th>Hernan</th>\n",
       "      <td>16</td>\n",
       "      <td>18.187500</td>\n",
       "      <td>3.0</td>\n",
       "      <td>0.0</td>\n",
       "      <td>2</td>\n",
       "    </tr>\n",
       "    <tr>\n",
       "      <th>Callum</th>\n",
       "      <td>16</td>\n",
       "      <td>23.750000</td>\n",
       "      <td>0.0</td>\n",
       "      <td>1.0</td>\n",
       "      <td>3</td>\n",
       "    </tr>\n",
       "    <tr>\n",
       "      <th>Change in Group</th>\n",
       "      <td>15</td>\n",
       "      <td>50.000000</td>\n",
       "      <td>0.0</td>\n",
       "      <td>0.0</td>\n",
       "      <td>0</td>\n",
       "    </tr>\n",
       "    <tr>\n",
       "      <th>Suman</th>\n",
       "      <td>15</td>\n",
       "      <td>26.466667</td>\n",
       "      <td>2.0</td>\n",
       "      <td>0.0</td>\n",
       "      <td>11</td>\n",
       "    </tr>\n",
       "    <tr>\n",
       "      <th>Luke</th>\n",
       "      <td>14</td>\n",
       "      <td>23.928571</td>\n",
       "      <td>2.0</td>\n",
       "      <td>0.0</td>\n",
       "      <td>4</td>\n",
       "    </tr>\n",
       "    <tr>\n",
       "      <th>Ben</th>\n",
       "      <td>14</td>\n",
       "      <td>30.428571</td>\n",
       "      <td>0.0</td>\n",
       "      <td>0.0</td>\n",
       "      <td>0</td>\n",
       "    </tr>\n",
       "    <tr>\n",
       "      <th>Aaron</th>\n",
       "      <td>14</td>\n",
       "      <td>44.500000</td>\n",
       "      <td>1.0</td>\n",
       "      <td>1.0</td>\n",
       "      <td>9</td>\n",
       "    </tr>\n",
       "    <tr>\n",
       "      <th>Isabella</th>\n",
       "      <td>13</td>\n",
       "      <td>18.923077</td>\n",
       "      <td>1.0</td>\n",
       "      <td>0.0</td>\n",
       "      <td>8</td>\n",
       "    </tr>\n",
       "    <tr>\n",
       "      <th>Jonathan</th>\n",
       "      <td>7</td>\n",
       "      <td>58.142857</td>\n",
       "      <td>0.0</td>\n",
       "      <td>1.0</td>\n",
       "      <td>2</td>\n",
       "    </tr>\n",
       "    <tr>\n",
       "      <th>Noah</th>\n",
       "      <td>7</td>\n",
       "      <td>47.000000</td>\n",
       "      <td>0.0</td>\n",
       "      <td>0.0</td>\n",
       "      <td>0</td>\n",
       "    </tr>\n",
       "    <tr>\n",
       "      <th>Alastair</th>\n",
       "      <td>2</td>\n",
       "      <td>46.500000</td>\n",
       "      <td>0.0</td>\n",
       "      <td>0.0</td>\n",
       "      <td>0</td>\n",
       "    </tr>\n",
       "    <tr>\n",
       "      <th>Axel</th>\n",
       "      <td>1</td>\n",
       "      <td>17.000000</td>\n",
       "      <td>1.0</td>\n",
       "      <td>0.0</td>\n",
       "      <td>0</td>\n",
       "    </tr>\n",
       "  </tbody>\n",
       "</table>\n",
       "</div>"
      ],
      "text/plain": [
       "                 total_messages    avg_len  media  link  emoji_num\n",
       "user                                                              \n",
       "Nan                          95  71.842105    9.0   4.0         18\n",
       "Max                          83  47.975904   11.0   1.0          0\n",
       "Paul                         51  36.588235    6.0   1.0          9\n",
       "James                        48  28.854167    8.0   1.0         33\n",
       "Anna                         38  33.605263    3.0   3.0          5\n",
       "Ella                         37  21.918919   12.0   1.0         17\n",
       "Charlie                      35  34.142857    5.0   2.0         28\n",
       "Maria                        29  57.103448    1.0   3.0         16\n",
       "Ki                           24  33.333333    5.0   0.0          6\n",
       "Niall                        23  23.260870    3.0   0.0          3\n",
       "Tanya                        19  84.947368    1.0   2.0          9\n",
       "Ian                          19  64.473684    1.0   2.0          5\n",
       "Hernan                       16  18.187500    3.0   0.0          2\n",
       "Callum                       16  23.750000    0.0   1.0          3\n",
       "Change in Group              15  50.000000    0.0   0.0          0\n",
       "Suman                        15  26.466667    2.0   0.0         11\n",
       "Luke                         14  23.928571    2.0   0.0          4\n",
       "Ben                          14  30.428571    0.0   0.0          0\n",
       "Aaron                        14  44.500000    1.0   1.0          9\n",
       "Isabella                     13  18.923077    1.0   0.0          8\n",
       "Jonathan                      7  58.142857    0.0   1.0          2\n",
       "Noah                          7  47.000000    0.0   0.0          0\n",
       "Alastair                      2  46.500000    0.0   0.0          0\n",
       "Axel                          1  17.000000    1.0   0.0          0"
      ]
     },
     "execution_count": 54,
     "metadata": {},
     "output_type": "execute_result"
    }
   ],
   "source": [
    "user_stats.sort_values(by = 'total_messages', ascending = False)"
   ]
  },
  {
   "cell_type": "markdown",
   "metadata": {},
   "source": [
    "### Top 5 media sharers"
   ]
  },
  {
   "cell_type": "code",
   "execution_count": 49,
   "metadata": {},
   "outputs": [
    {
     "data": {
      "text/plain": [
       "user\n",
       "Ella      12.0\n",
       "Max       11.0\n",
       "Nan        9.0\n",
       "James      8.0\n",
       "Paul       6.0\n",
       "Name: media, dtype: float64"
      ]
     },
     "execution_count": 49,
     "metadata": {},
     "output_type": "execute_result"
    }
   ],
   "source": [
    "user_stats.media.sort_values(ascending=False)[:5]"
   ]
  },
  {
   "cell_type": "markdown",
   "metadata": {},
   "source": [
    "### Top 5 link sharers"
   ]
  },
  {
   "cell_type": "code",
   "execution_count": 50,
   "metadata": {},
   "outputs": [
    {
     "data": {
      "text/plain": [
       "user\n",
       "Nan         4.0\n",
       "Anna        3.0\n",
       "Maria       3.0\n",
       "Tanya       2.0\n",
       "Charlie     2.0\n",
       "Name: link, dtype: float64"
      ]
     },
     "execution_count": 50,
     "metadata": {},
     "output_type": "execute_result"
    }
   ],
   "source": [
    "user_stats.link.sort_values(ascending=False)[:5]"
   ]
  },
  {
   "cell_type": "markdown",
   "metadata": {},
   "source": [
    "### Top Emoji users\n",
    "\n",
    "James... we need to talk..."
   ]
  },
  {
   "cell_type": "code",
   "execution_count": 51,
   "metadata": {},
   "outputs": [
    {
     "data": {
      "text/plain": [
       "user\n",
       "James       33\n",
       "Charlie     28\n",
       "Nan         18\n",
       "Ella        17\n",
       "Maria       16\n",
       "Name: emoji_num, dtype: int64"
      ]
     },
     "execution_count": 51,
     "metadata": {},
     "output_type": "execute_result"
    }
   ],
   "source": [
    "user_stats.emoji_num.sort_values(ascending=False)[:5]"
   ]
  },
  {
   "cell_type": "markdown",
   "metadata": {},
   "source": [
    "### Top Avg Typers"
   ]
  },
  {
   "cell_type": "code",
   "execution_count": 53,
   "metadata": {},
   "outputs": [
    {
     "data": {
      "text/plain": [
       "user\n",
       "Tanya        84.947368\n",
       "Nan          71.842105\n",
       "Ian          64.473684\n",
       "Jonathan     58.142857\n",
       "Maria        57.103448\n",
       "Name: avg_len, dtype: float64"
      ]
     },
     "execution_count": 53,
     "metadata": {},
     "output_type": "execute_result"
    }
   ],
   "source": [
    "user_stats.avg_len.sort_values(ascending=False)[:5]"
   ]
  },
  {
   "cell_type": "code",
   "execution_count": null,
   "metadata": {},
   "outputs": [],
   "source": []
  }
 ],
 "metadata": {
  "kernelspec": {
   "display_name": "Python 3",
   "language": "python",
   "name": "python3"
  },
  "language_info": {
   "codemirror_mode": {
    "name": "ipython",
    "version": 3
   },
   "file_extension": ".py",
   "mimetype": "text/x-python",
   "name": "python",
   "nbconvert_exporter": "python",
   "pygments_lexer": "ipython3",
   "version": "3.7.6"
  }
 },
 "nbformat": 4,
 "nbformat_minor": 4
}
